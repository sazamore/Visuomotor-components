{
 "cells": [
  {
   "cell_type": "code",
   "execution_count": 1,
   "metadata": {
    "collapsed": true
   },
   "outputs": [],
   "source": [
    "import cv2,os,glob,csv,time\n",
    "import numpy as np\n",
    "import pyqtgraph as qt\n",
    "import pickle\n",
    "import pdb\n",
    "\n",
    "global color, upperPt, lowerPt, frameCenter, refPt, color_data, scaled, frame,diameter\n",
    "upperPt = []\n",
    "lowerPt = []\n",
    "frameCenter = []\n",
    "refPt = []\n",
    "scaled = False\n",
    "diameter = []\n",
    "\n",
    "color_data = {\n",
    "'red_pos': [],\\\n",
    "'red_min': [],\\\n",
    "'red_max': [],\\\n",
    "'yellow_pos': [],\\\n",
    "'yellow_min': [],\\\n",
    "'yellow_max': [],\\\n",
    "'lowerPt': [],\\\n",
    "'upperPt': [],\\\n",
    "'frameCenter': [],\\\n",
    "'refPt': [],\\\n",
    "'diameter': [],\\\n",
    "}\n",
    "\n",
    "color_set = ['red','yellow']"
   ]
  },
  {
   "cell_type": "code",
   "execution_count": 2,
   "metadata": {
    "collapsed": false
   },
   "outputs": [],
   "source": [
    "def histNorm(frame,plotting=False):\t\n",
    "\t\"\"\"this function does some shit\n",
    "\tFrame must be cropped (tracking area only)\"\"\"\n",
    "\n",
    "\thist, bins = np.histogram(frame.flatten(),256,[0,256])\n",
    "\t\n",
    "\tcdf = hist.cumsum()\n",
    "\tcdf_normalized = cdf * hist.max()/cdf.max()\n",
    "\t#TODO: save cdf from example frame to make normalized hist for subsequent frames\n",
    "\t\n",
    "\tif plotting:\n",
    "\t\tplt.plot(cdf_normalized, color = 'b')\n",
    "\t\tplt.hist(frame.flatten(),256,[0,256])\n",
    "\t\tplt.xlim([0,256])\n",
    "\t\tplt.legend(('cdf','histogram'), loc = 'upper left')\n",
    "\t\tplt.show()\n",
    "\t\t\n",
    "\t\t#TODO: delete image with keystroke\n",
    "\t\n",
    "\t#mask and scale histogram\n",
    "\tcdf_m = np.ma.masked_equal(cdf,0)\n",
    "\tcdf_m = (cdf_m - cdf_m.min())*255/(cdf_m.max()-cdf_m.min())\n",
    "\tcdf = np.ma.filled(cdf_m,0).astype('uint8')\n",
    "\t\n",
    "\tnew_image = cdf[frame]\n",
    "\t\n",
    "\treturn new_image\t\n",
    "\n",
    "def get_center(event,x,y,flags,param):\t\t\t\n",
    "\t\"\"\"Finds center of an image using mouse click\"\"\"\n",
    "\tglobal frameCenter, frame\t\n",
    "\tif event == cv2.EVENT_LBUTTONDOWN:\n",
    "\t\tframeCenter = (x,y)\n",
    "\t\tcv2.circle(frame,(x,y),10,(0,0,0),-1)\n",
    "\t\tcv2.imshow('Click on center', frame)\n",
    "\t\tprint('Center is '+ str(frameCenter))\n",
    "\t\tcv2.destroyAllWindows()\n",
    "\t\t\n",
    "\t\tcolor_data[\"frameCenter\"] = frameCenter\n",
    "        \n",
    "def get_circ(event,x,y,flags,param):\n",
    "\t\"\"\"Finds edge of drum for distance estimations\"\"\"\t\n",
    "\tglobal frame, frameCenter, diameter\n",
    "\tdiameter = []\n",
    "\tif event == cv2.EVENT_LBUTTONDOWN:\n",
    "\t\t#draw circles where user clicks\n",
    "\t\tcircPt = (x,y)\n",
    "\t\tcv2.circle(frame,(x,y),1,(0,0,0),1)\n",
    "\t\tcv2.destroyWindow('Click 6 points on drum')\n",
    "\t\tcv2.imshow('Click 6 points on drum', frame)\n",
    "\t\tdiameter.extend(np.sqrt((frameCenter[0]-list(x))**2 + (frameCenter[1]-list(y))**2))\n",
    "\t\tcolor_data['diameter'] = diameter\n",
    "\t\tprint color_data['diameter'] \n",
    "#\treturn diameter\n",
    "\n",
    "def get_color(event,x,y,flags,param):\n",
    "\t\"\"\"gets location of color from button click, derives color value parameters for tracking\"\"\"\n",
    "\tglobal color_loc,setColor,setColorMax, setColorMin,frame\t#define these\n",
    "\tcolor_loc = []\t\n",
    "\tsetColorMin = []\n",
    "\tsetColorMax = []\t\n",
    "#\tframe = histNorm(frame)\n",
    "\thsv = cv2.cvtColor(frame, cv2.COLOR_BGR2HSV)\n",
    "\t\n",
    "\tif event == cv2.EVENT_LBUTTONDOWN:\t\t#check \n",
    "\t\tcolor_loc = (x,y)\t\t\n",
    "\t\tsetColor = hsv[y-2:y+2,x-2:x+2,:]\n",
    "\t\tsetColor = np.uint8(setColor)\t\t\n",
    "\t\tsetColorMin = (np.min(setColor[:,:,0]),np.min(setColor[:,:,1]),np.min(setColor[:,:,2]))\t \t#not sure this will gake min of each column\n",
    "\t\tsetColorMax = (np.max(setColor[:,:,0]),np.max(setColor[:,:,1]),np.max(setColor[ :,:,2]))\n",
    "\t\tprint hsv[color_loc[0],color_loc[1],:]\n",
    "\t\tprint color_loc\n",
    "\t\n",
    "\t\t#export data\n",
    "\t\tcolor_data[color+'_pos']=color_loc\n",
    "\t\tcolor_data[color+'_min']=setColorMin\n",
    "\t\tcolor_data[color+'_max']=setColorMax\n",
    "\t\t\n",
    "\t\tcv2.destroyAllWindows()\n",
    "\t\t\n",
    "def get_reference(event, x,y,flags, param):\n",
    "\t\"\"\"Selects ROI (100 x 100 rectangle) on frame from which the grating rotation speed can be calculated.\n",
    "\tROI is a rectangle whos bounds are determined by clicking the position of the upper\n",
    "\tleft corner of the rectangle. Image window name must be 'image'. \"\"\"\n",
    "\tglobal refPt,frame\n",
    "\tif event == cv2.EVENT_LBUTTONDOWN:\n",
    "\t\trefPt = [(x, y)]\n",
    "\t\trefPt.append((x+100,y+100))\n",
    "\t\t#accessing the values within the rectange would use: image[refPt[0][0:1],refPt[1][0:1]]\n",
    "\t\tcv2.rectangle(frame,refPt[0],refPt[1],(255,255,0),2)\n",
    "\t\tcv2.imshow('Reference region made',frame)\n",
    "\t\tcv2.destroyAllWindows()\n",
    "\t\t\n",
    "\t\tcolor_data[\"refPt\"] = refPt\n",
    "\t\t\n",
    "def resize_frame(event,x,y,flags,param):\n",
    "\t\"\"\"Click and drag to select entire probable search area starting in upper left corner.\"\"\"\t\t\n",
    "\tglobal upperPt, lowerPt, frame, color_data\n",
    "\tif event == cv2.EVENT_LBUTTONDOWN:\n",
    "\t\tupperPt = [x,y]\n",
    "\t\t#upperPt = list(upperPt[0])\n",
    "\t\tprint ('Upper pt is{}'.format(upperPt))\n",
    "\tif event == cv2.EVENT_LBUTTONUP:\n",
    "\t\tlowerPt = [x,y]\n",
    "\t\t#lowerPt = list(lowerPt[0])\n",
    "\t\tprint ('Lower pt is {}'.format(lowerPt))\n",
    "# \t\tcv2.rectangle(frame, upperPt[0], lowerPt[0],(0,0,0),1)\n",
    "\t\tcv2.destroyWindow('Select region of interest')\t\t\t\n",
    "\t\t#crop frame\n",
    "\t\tframe = frame[upperPt[1]:lowerPt[1],upperPt[0]:lowerPt[0]]\n",
    "\t\tcv2.imwrite('resized.jpg',frame)\n",
    "\t\tframe = histNorm(frame)\n",
    "\t\tprint('Resize successful')\n",
    "\t\tcv2.imshow('Select region of interest', frame)\t\n",
    "\n",
    "\t\tcolor_data[\"upperPt\"] = upperPt\n",
    "\t\tcolor_data[\"lowerPt\"] = lowerPt\n",
    "\t\tcv2.destroyAllWindows()\n",
    "        \n",
    "def import_globals():\n",
    "    global color_data, upperPt, lowerPt\n",
    "\n",
    "    os.chdir('/Users/sazamore/BehaviorVids/'+str(ID)+'/vidParam')#/Volumes/ADIPOSE/90/vidParam/')\n",
    "    filename = str(raw_input('enter global prefix (ID_00_DATE)'))\n",
    "    filename = filename + '-global.p'\n",
    "    global_data = pickle.load(open(filename,\"rb\"))  #import batch-specific data\n",
    "    #global_data = pickle.load(open('94_00_170329-global.p',\"rb\"))  #import batch-specific data\n",
    "    \n",
    "    #TODO: only reference param_data, get rid of these variables\n",
    "    upperPt = color_data['upperPt'] = global_data['upperPt']#(390,2) #param_data['upperPt']\n",
    "    lowerPt = color_data['lowerPt'] = global_data['lowerPt']#(1085,650) #param_data['lowerPt']\n",
    "    color_data['diameter'] = global_data['diameter']\n",
    "    return global_data, filename\n",
    "    \n",
    "def make_globals(filename):\n",
    "    global color_data, upperPt, lowerPt, frameCenter\n",
    "    global_data = {}\n",
    "    count = 0\n",
    "    diameter = []\n",
    "    \n",
    "    camera.set(cv2.CAP_PROP_POS_FRAMES, 750)\n",
    "    (grabbed, frame) = camera.read()\n",
    "    scale = 1300./frame.shape[1]\n",
    "    frame = cv2.resize(frame,None,fx=scale,fy=scale,interpolation = cv2.INTER_CUBIC)\n",
    "    #crop\n",
    "    if upperPt == [] or lowerPt ==[]:\t\n",
    "        cv2.imshow('Select region of interest',frame)\n",
    "        cv2.setMouseCallback('Select region of interest', resize_frame)\n",
    "        cv2.waitKey(8000)\n",
    "        cv2.destroyWindow('Select region of interest')\n",
    "    \n",
    "        #get center\n",
    "    if frameCenter == [] : \n",
    "        cv2.imshow('Click on center',frame)\n",
    "        cv2.setMouseCallback('Click on center',get_center)\n",
    "        cv2.waitKey(5000)\n",
    "        cv2.destroyWindow('Click on center')\n",
    "        radius = int(633/2) #int(np.mean(diameter)/2)\n",
    "        cv2.circle(frame,frameCenter,radius,(0,0,0),2)\n",
    "        color_data['diameter'] = radius*2\n",
    "    \n",
    "    #get diam\n",
    "        while count <= 6:\n",
    "            cv2.imshow('Click 6 points on drum',frame)\n",
    "            cv2.setMouseCallback('Click 6 points on drum', get_circ)\n",
    "            cv2.waitKey(3000)\n",
    "            cv2.destroyWindow('Click 6 points on drum')\n",
    "            count += 1\n",
    "    #print(diameter)\n",
    "    #pdb.set_trace()\n",
    "    radius = int(np.mean(color_data['diameter'])/2)\n",
    "    cv2.circle(frame,frameCenter,radius,(0,0,0),2)\n",
    "    color_data['diameter'] = radius*2\n",
    "    \n",
    "    global_data['diameter']=radius*2\n",
    "    global_data['upperPt']= upperPt\n",
    "    global_data['lowerPt']= lowerPt\n",
    "    global_data['frameCenter'] = frameCenter\n",
    "    global_data['red_pos']=[]\n",
    "    global_data['yellow_pos']=[]\n",
    "    global_data = pickle.dump(global_data,open(filename,\"wb\"))\n",
    "    print('Global parameters saved.')\n",
    "    \n"
   ]
  },
  {
   "cell_type": "code",
   "execution_count": 4,
   "metadata": {
    "collapsed": false
   },
   "outputs": [
    {
     "name": "stdout",
     "output_type": "stream",
     "text": [
      "enter global prefix (ID_00_DATE)94_00_170503\n",
      "Importing global parameters\n",
      "Upper pt is (372, 0)\n",
      "[ 82  51 145]\n",
      "(105, 431)\n",
      "[ 80  46 150]\n",
      "(110, 420)\n"
     ]
    }
   ],
   "source": [
    "#get color position\n",
    "filepath = '/Users/sazamore/BehaviorVids/94/mp4/'\n",
    "os.chdir(filepath)#'/Volumes/ADIPOSE/90/Videos/')\n",
    "vidname = \"94_170503_01rpm.mp4\"\n",
    "ID = vidname[:2]\n",
    "Date = vidname[3:9]\n",
    "camera = cv2.VideoCapture(vidname)\n",
    "camera.set(cv2.CAP_PROP_POS_FRAMES, 4500)\n",
    "(grabbed, frame) = camera.read()\n",
    "\n",
    "try:\n",
    "    global_data, filename = import_globals()\n",
    "    print('Importing global parameters')\n",
    "except IOError:\n",
    "    globalname = ID+'_00_'+Date+'-global.p'\n",
    "    print globalname\n",
    "    make_globals(globalname)#globalname)#'_00_160811-global.p')\n",
    "    print('Making global parameters')\n",
    "print('Upper pt is {}'.format(upperPt))\n",
    "\n",
    "if len(upperPt)==1:\n",
    "    upperPt = upperPt[0]\n",
    "if len(lowerPt)==1:\n",
    "    lowerPt = lowerPt[0]\n",
    "    \n",
    "(grabbed, frame) = camera.read()\n",
    "scale = 1300./frame.shape[1]\n",
    "frame = cv2.resize(frame,None,fx=scale,fy=scale,interpolation = cv2.INTER_CUBIC)\n",
    "frame = frame[upperPt[1]:lowerPt[1],upperPt[0]:lowerPt[0]]\n",
    "scaled = True\n",
    "                          \n",
    "for color in ['red','yellow']:\n",
    "    #if color_data[color+'_pos'] == []:\n",
    "    cv2.imshow(color,frame)\t\t\t\n",
    "    cv2.setMouseCallback(color,get_color)\n",
    "    cv2.waitKey(5000)\t\t#-1 and 0 values seem to hang up. 5000 works.\n",
    "    cv2.destroyAllWindows()\n",
    "    \n",
    "vidname = vidname[:-4] + '_data.p'\n",
    "pickle.dump(color_data, open(vidname,\"wb\"))"
   ]
  },
  {
   "cell_type": "markdown",
   "metadata": {},
   "source": [
    "globalname"
   ]
  },
  {
   "cell_type": "code",
   "execution_count": 14,
   "metadata": {
    "collapsed": false
   },
   "outputs": [
    {
     "ename": "TypeError",
     "evalue": "'numpy.float64' object is not iterable",
     "output_type": "error",
     "traceback": [
      "\u001b[0;31m---------------------------------------------------------------------------\u001b[0m",
      "\u001b[0;31mTypeError\u001b[0m                                 Traceback (most recent call last)",
      "\u001b[0;32m<ipython-input-14-b04eccfdf92e>\u001b[0m in \u001b[0;36m<module>\u001b[0;34m()\u001b[0m\n\u001b[1;32m      1\u001b[0m \u001b[0mx\u001b[0m\u001b[0;34m,\u001b[0m\u001b[0my\u001b[0m \u001b[0;34m=\u001b[0m \u001b[0mlist\u001b[0m\u001b[0;34m(\u001b[0m\u001b[0;34m[\u001b[0m\u001b[0;36m383\u001b[0m\u001b[0;34m,\u001b[0m\u001b[0;36m339\u001b[0m\u001b[0;34m]\u001b[0m\u001b[0;34m)\u001b[0m\u001b[0;34m\u001b[0m\u001b[0m\n\u001b[0;32m----> 2\u001b[0;31m \u001b[0mdiameter\u001b[0m\u001b[0;34m.\u001b[0m\u001b[0mextend\u001b[0m\u001b[0;34m(\u001b[0m\u001b[0mnp\u001b[0m\u001b[0;34m.\u001b[0m\u001b[0msqrt\u001b[0m\u001b[0;34m(\u001b[0m\u001b[0;34m(\u001b[0m\u001b[0mframeCenter\u001b[0m\u001b[0;34m[\u001b[0m\u001b[0;36m0\u001b[0m\u001b[0;34m]\u001b[0m\u001b[0;34m-\u001b[0m\u001b[0mx\u001b[0m\u001b[0;34m)\u001b[0m\u001b[0;34m**\u001b[0m\u001b[0;36m2\u001b[0m \u001b[0;34m+\u001b[0m \u001b[0;34m(\u001b[0m\u001b[0mframeCenter\u001b[0m\u001b[0;34m[\u001b[0m\u001b[0;36m1\u001b[0m\u001b[0;34m]\u001b[0m\u001b[0;34m-\u001b[0m\u001b[0my\u001b[0m\u001b[0;34m)\u001b[0m\u001b[0;34m**\u001b[0m\u001b[0;36m2\u001b[0m\u001b[0;34m)\u001b[0m\u001b[0;34m)\u001b[0m\u001b[0;34m\u001b[0m\u001b[0m\n\u001b[0m",
      "\u001b[0;31mTypeError\u001b[0m: 'numpy.float64' object is not iterable"
     ]
    }
   ],
   "source": [
    "x,y = list([383,339])\n",
    "diameter.extend(np.sqrt((frameCenter[0]-x)**2 + (frameCenter[1]-y)**2))"
   ]
  },
  {
   "cell_type": "code",
   "execution_count": 18,
   "metadata": {
    "collapsed": false
   },
   "outputs": [],
   "source": [
    "filepath = '/Users/sazamore/BehaviorVids/94/mp4/'\n",
    "os.chdir(filepath)#'/Volumes/ADIPOSE/90/Videos/')\n",
    "vidname = \"94_161130_01rpm.mp4\"\n",
    "ID = vidname[:2]\n",
    "Date = vidname[3:9]\n",
    "camera = cv2.VideoCapture(vidname)\n",
    "camera.set(cv2.CAP_PROP_POS_FRAMES, 300)\n",
    "\n",
    "cv2.destroyAllWindows()\n",
    "(grabbed, frame) = camera.read()\n",
    "cv2.imshow('original',frame)\n",
    "scale = 1300./frame.shape[1]\n",
    "frame = cv2.resize(frame,None,fx=scale,fy=scale,interpolation = cv2.INTER_CUBIC)\n",
    "frame = frame[upperPt[1]:lowerPt[1],upperPt[0]:lowerPt[0]]\n",
    "# cv2.destroyAllWindows()\n",
    "\n",
    "# cv2.imshow('trimmed',frame)\n"
   ]
  },
  {
   "cell_type": "code",
   "execution_count": 13,
   "metadata": {
    "collapsed": false
   },
   "outputs": [],
   "source": [
    "cv2.imshow?"
   ]
  },
  {
   "cell_type": "code",
   "execution_count": 4,
   "metadata": {
    "collapsed": false
   },
   "outputs": [],
   "source": [
    "upperPt=[363,14]\n",
    "lowerPt=[1049,663]"
   ]
  },
  {
   "cell_type": "code",
   "execution_count": 7,
   "metadata": {
    "collapsed": false
   },
   "outputs": [
    {
     "data": {
      "text/plain": [
       "{'diameter': 632,\n",
       " 'frameCenter': (697, 339),\n",
       " 'lowerPt': [1050, 675],\n",
       " 'red_max': (13, 135, 192),\n",
       " 'red_min': (5, 61, 122),\n",
       " 'red_pos': (418, 323),\n",
       " 'refPt': [],\n",
       " 'upperPt': [355, 15],\n",
       " 'yellow_max': (22, 182, 199),\n",
       " 'yellow_min': (9, 67, 110),\n",
       " 'yellow_pos': (427, 328)}"
      ]
     },
     "execution_count": 7,
     "metadata": {},
     "output_type": "execute_result"
    }
   ],
   "source": [
    "# color_data['upperPt'] = upperPt\n",
    "# color_data['lowerPt'] = lowerPt\n",
    "color_data"
   ]
  },
  {
   "cell_type": "code",
   "execution_count": 12,
   "metadata": {
    "collapsed": false
   },
   "outputs": [
    {
     "name": "stdout",
     "output_type": "stream",
     "text": [
      "Center is (383, 334)\n"
     ]
    },
    {
     "ename": "NameError",
     "evalue": "name 'x' is not defined",
     "output_type": "error",
     "traceback": [
      "\u001b[0;31m---------------------------------------------------------------------------\u001b[0m",
      "\u001b[0;31mNameError\u001b[0m                                 Traceback (most recent call last)",
      "\u001b[0;32m<ipython-input-12-c106b37b536d>\u001b[0m in \u001b[0;36m<module>\u001b[0;34m()\u001b[0m\n\u001b[1;32m      5\u001b[0m     \u001b[0mcv2\u001b[0m\u001b[0;34m.\u001b[0m\u001b[0msetMouseCallback\u001b[0m\u001b[0;34m(\u001b[0m\u001b[0;34m'Click on center'\u001b[0m\u001b[0;34m,\u001b[0m\u001b[0mget_center\u001b[0m\u001b[0;34m)\u001b[0m\u001b[0;34m\u001b[0m\u001b[0m\n\u001b[1;32m      6\u001b[0m     \u001b[0mcv2\u001b[0m\u001b[0;34m.\u001b[0m\u001b[0mwaitKey\u001b[0m\u001b[0;34m(\u001b[0m\u001b[0;36m5000\u001b[0m\u001b[0;34m)\u001b[0m\u001b[0;34m\u001b[0m\u001b[0m\n\u001b[0;32m----> 7\u001b[0;31m     \u001b[0;32mprint\u001b[0m\u001b[0;34m(\u001b[0m\u001b[0mx\u001b[0m\u001b[0;34m,\u001b[0m\u001b[0my\u001b[0m\u001b[0;34m)\u001b[0m\u001b[0;34m\u001b[0m\u001b[0m\n\u001b[0m\u001b[1;32m      8\u001b[0m     \u001b[0mcv2\u001b[0m\u001b[0;34m.\u001b[0m\u001b[0mdestroyWindow\u001b[0m\u001b[0;34m(\u001b[0m\u001b[0;34m'Click on center'\u001b[0m\u001b[0;34m)\u001b[0m\u001b[0;34m\u001b[0m\u001b[0m\n\u001b[1;32m      9\u001b[0m     \u001b[0mradius\u001b[0m \u001b[0;34m=\u001b[0m \u001b[0mint\u001b[0m\u001b[0;34m(\u001b[0m\u001b[0;36m633\u001b[0m\u001b[0;34m/\u001b[0m\u001b[0;36m2\u001b[0m\u001b[0;34m)\u001b[0m \u001b[0;31m#int(np.mean(diameter)/2)\u001b[0m\u001b[0;34m\u001b[0m\u001b[0m\n",
      "\u001b[0;31mNameError\u001b[0m: name 'x' is not defined"
     ]
    }
   ],
   "source": [
    "frameCenter=[]\n",
    "        #get center\n",
    "if frameCenter == [] : \n",
    "    cv2.imshow('Click on center',frame)\n",
    "    cv2.setMouseCallback('Click on center',get_center)\n",
    "    cv2.waitKey(5000)\n",
    "    print(x,y)\n",
    "    cv2.destroyWindow('Click on center')\n",
    "    radius = int(633/2) #int(np.mean(diameter)/2)\n",
    "    cv2.circle(frame,frameCenter,radius,(0,0,0),2)\n",
    "    color_data['diameter'] = radius*2"
   ]
  },
  {
   "cell_type": "code",
   "execution_count": 37,
   "metadata": {
    "collapsed": false
   },
   "outputs": [],
   "source": [
    "### color_data['yellow_pos'], color_data['red_pos'] \n",
    "def get_center(event,x,y,flags,param):\t\t\t\n",
    "\t\"\"\"Finds center of an image using mouse click\"\"\"\n",
    "\tglobal frameCenter, frame\t\n",
    "\tif event == cv2.EVENT_LBUTTONDOWN:\n",
    "\t\tframeCenter = (x,y)\n",
    "\t\tcv2.circle(frame,(x,y),10,(0,0,0),-1)\n",
    "\t\tcv2.imshow('Click on center', frame)\n",
    "\t\tprint('Center is '+ str(frameCenter))\n",
    "\t\tcv2.destroyAllWindows()\n",
    "\t\t\n",
    "\t\tcolor_data[\"frameCenter\"] = frameCenter"
   ]
  },
  {
   "cell_type": "code",
   "execution_count": 15,
   "metadata": {
    "collapsed": false
   },
   "outputs": [
    {
     "name": "stdout",
     "output_type": "stream",
     "text": [
      "enter global prefix (ID_00_DATE)90_00_170201.p\n"
     ]
    },
    {
     "ename": "ValueError",
     "evalue": "cannot convert float NaN to integer",
     "output_type": "error",
     "traceback": [
      "\u001b[0;31m---------------------------------------------------------------------------\u001b[0m",
      "\u001b[0;31mValueError\u001b[0m                                Traceback (most recent call last)",
      "\u001b[0;32m<ipython-input-15-d82f2370bdf8>\u001b[0m in \u001b[0;36m<module>\u001b[0;34m()\u001b[0m\n\u001b[1;32m     39\u001b[0m                 \u001b[0mimport_globals\u001b[0m\u001b[0;34m(\u001b[0m\u001b[0;34m)\u001b[0m\u001b[0;34m\u001b[0m\u001b[0m\n\u001b[1;32m     40\u001b[0m         \u001b[0;32mexcept\u001b[0m \u001b[0mIOError\u001b[0m\u001b[0;34m:\u001b[0m\u001b[0;34m\u001b[0m\u001b[0m\n\u001b[0;32m---> 41\u001b[0;31m                 \u001b[0mmake_globals\u001b[0m\u001b[0;34m(\u001b[0m\u001b[0;34m)\u001b[0m\u001b[0;34m\u001b[0m\u001b[0m\n\u001b[0m\u001b[1;32m     42\u001b[0m         \u001b[0;32mprint\u001b[0m\u001b[0;34m(\u001b[0m\u001b[0mupperPt\u001b[0m\u001b[0;34m)\u001b[0m\u001b[0;34m\u001b[0m\u001b[0m\n\u001b[1;32m     43\u001b[0m \u001b[0;34m\u001b[0m\u001b[0m\n",
      "\u001b[0;32m<ipython-input-2-952e4ac53a06>\u001b[0m in \u001b[0;36mmake_globals\u001b[0;34m()\u001b[0m\n\u001b[1;32m    165\u001b[0m     \u001b[0;31m#print(diameter)\u001b[0m\u001b[0;34m\u001b[0m\u001b[0;34m\u001b[0m\u001b[0m\n\u001b[1;32m    166\u001b[0m     \u001b[0;31m#pdb.set_trace()\u001b[0m\u001b[0;34m\u001b[0m\u001b[0;34m\u001b[0m\u001b[0m\n\u001b[0;32m--> 167\u001b[0;31m     \u001b[0mradius\u001b[0m \u001b[0;34m=\u001b[0m \u001b[0mint\u001b[0m\u001b[0;34m(\u001b[0m\u001b[0mnp\u001b[0m\u001b[0;34m.\u001b[0m\u001b[0mmean\u001b[0m\u001b[0;34m(\u001b[0m\u001b[0mcolor_data\u001b[0m\u001b[0;34m[\u001b[0m\u001b[0;34m'diameter'\u001b[0m\u001b[0;34m]\u001b[0m\u001b[0;34m)\u001b[0m\u001b[0;34m/\u001b[0m\u001b[0;36m2\u001b[0m\u001b[0;34m)\u001b[0m\u001b[0;34m\u001b[0m\u001b[0m\n\u001b[0m\u001b[1;32m    168\u001b[0m     \u001b[0mcv2\u001b[0m\u001b[0;34m.\u001b[0m\u001b[0mcircle\u001b[0m\u001b[0;34m(\u001b[0m\u001b[0mframe\u001b[0m\u001b[0;34m,\u001b[0m\u001b[0mframeCenter\u001b[0m\u001b[0;34m,\u001b[0m\u001b[0mradius\u001b[0m\u001b[0;34m,\u001b[0m\u001b[0;34m(\u001b[0m\u001b[0;36m0\u001b[0m\u001b[0;34m,\u001b[0m\u001b[0;36m0\u001b[0m\u001b[0;34m,\u001b[0m\u001b[0;36m0\u001b[0m\u001b[0;34m)\u001b[0m\u001b[0;34m,\u001b[0m\u001b[0;36m2\u001b[0m\u001b[0;34m)\u001b[0m\u001b[0;34m\u001b[0m\u001b[0m\n\u001b[1;32m    169\u001b[0m     \u001b[0mcolor_data\u001b[0m\u001b[0;34m[\u001b[0m\u001b[0;34m'diameter'\u001b[0m\u001b[0;34m]\u001b[0m \u001b[0;34m=\u001b[0m \u001b[0mradius\u001b[0m\u001b[0;34m*\u001b[0m\u001b[0;36m2\u001b[0m\u001b[0;34m\u001b[0m\u001b[0m\n",
      "\u001b[0;31mValueError\u001b[0m: cannot convert float NaN to integer"
     ]
    }
   ],
   "source": [
    "#Navigate to video filepath and search for videos by animal number\n",
    "os.chdir('/Volumes/ADIPOSE/90/')\n",
    "ID = [\"90_170201_10rpm.mp4\"]#str(raw_input('Enter animal ID number: ')) + '*.mp4'\n",
    "#filename = ID\n",
    "    \n",
    "#Iterate through videos with animal number. Create and save settings.\n",
    "for filename in ID:\n",
    "\t#set/reset values\n",
    "# \tupperPt = []\n",
    "# \tlowerPt = []\n",
    "# \tframeCenter = []\n",
    "\trefPt = []\n",
    "\t#diameter = []\n",
    "\tcount = 0\n",
    "\tscaled = False\n",
    "\t\t\n",
    "\tcolor_data = {\n",
    "\t'red_pos': [],\\\n",
    "\t'red_min': [],\\\n",
    "\t'red_max': [],\\\n",
    "\t'yellow_pos': [],\\\n",
    "\t'yellow_min': [],\\\n",
    "\t'yellow_max': [],\\\n",
    "\t'lowerPt': [],\\\n",
    "\t'upperPt': [],\\\n",
    "\t'frameCenter': [],\\\n",
    "\t'refPt': [],\\\n",
    "\t'diameter': [],\\\n",
    "\t}\n",
    "\t\n",
    "\tcolor_set = ['red','yellow']\n",
    "\n",
    "\t#set up camera, grab 200th frame (lighting issues)\n",
    "\tcamera = cv2.VideoCapture(ID[0])\n",
    "\tcamera.set(cv2.CAP_PROP_POS_FRAMES, 300)\n",
    "\t(grabbed, frame) = camera.read()\t\n",
    "\n",
    "\ttry:\n",
    "\t\timport_globals()\n",
    "\texcept IOError:\n",
    "\t\tmake_globals()\n",
    "\tprint(upperPt)\n",
    "    \n",
    "\tif grabbed:#scale all videos to same size\n",
    "\t\tscale = 1300./frame.shape[1]\n",
    "\t\tframe = cv2.resize(frame,None,fx=scale,fy=scale,interpolation = cv2.INTER_CUBIC)\n",
    "\t\tframe = frame[upperPt[1]:lowerPt[1],upperPt[0]:lowerPt[0]]\n",
    "\t\tscaled = True\n",
    "\telse:\n",
    "\t\tprint \"File not read.\"       \n",
    "\n",
    "\tfilename = filename[:-4] + '_data.p'\t\t\n",
    "\t\t\n",
    "# \t#crop video\n",
    "# \tif upperPt == [] or lowerPt ==[]:\t\n",
    "# \t\tcv2.imshow('Select region of interest',frame)\n",
    "# \t\tcv2.setMouseCallback('Select region of interest', resize_frame)\n",
    "# \t\tcv2.waitKey(5000)\n",
    "# \t\tcv2.destroyWindow('Select region of interest')\n",
    "\t\t\t\n",
    "\t#get center\n",
    "\tif frameCenter == [] : \n",
    "\t\tcv2.imshow('Click on center',frame)\n",
    "\t\tcv2.setMouseCallback('Click on center',get_center)\n",
    "\t\tcv2.waitKey(5000)\n",
    "\t\tcv2.destroyWindow('Click on center')\n",
    "        radius = int(633/2)#int(np.mean(diameter))\n",
    "        cv2.circle(frame,frameCenter,radius,(0,0,0),2)\n",
    "        color_data['diameter'] = radius*2\n",
    "\n",
    "\t#if diameter == []:\n",
    "\t\t#get diam\n",
    "# \t\twhile count < 6:\n",
    "# \t\t\tcv2.imshow('Click 6 points on drum',frame)\n",
    "# \t\t\tcv2.setMouseCallback('Click 6 points on drum', get_circ)\n",
    "# \t\t\tcv2.waitKey(3000)\n",
    "# \t\t\tcv2.destroyWindow('Click 6 points on drum')\n",
    "# \t\t\tcount += 1\n",
    "#         radius = int(np.mean(diameter))\n",
    "#         cv2.circle(frame,frameCenter,radius,(0,0,0),2)\n",
    "#         color_data['diameter'] = radius*2\n",
    "\t\t\n",
    "\t#find reference region\n",
    "\tif refPt ==[]:\t\n",
    "\t\t#get stimulus motion reference\n",
    "\t\tcv2.imshow('Click pattern for reference',frame)\t\n",
    "\t\tcv2.setMouseCallback('Click pattern for reference',get_reference)\n",
    "\t\tcv2.waitKey(5000)\n",
    "\t\t\n",
    "\t\t#get color values\n",
    "\tfor color in color_set:\n",
    "\t\tif color_data[color+'_pos'] == []:\n",
    "\t\t\tcv2.imshow(color,frame)\t\t\t\n",
    "\t\t\tcv2.setMouseCallback(color,get_color)\n",
    "\t\t\tcv2.waitKey(5000)\t\t#-1 and 0 values seem to hang up. 5000 works.\n",
    "\t\t\tcv2.destroyAllWindows()\n",
    "        \n",
    "\tcv2.destroyAllWindows()\n",
    "\n",
    "\tpickle.dump(color_data, open(filename,\"wb\"))\n",
    "\tprint(filename)\n",
    "#\t\twith open(csvfilename,'wb') as csvfile:\t#append?\n",
    "#\t\t\t#fieldnames = ['upperPt','upperPt','frameCenter_x','frameCenter_y','refPt_x1','refPt_y1','refPt_x2','refPt_y2',color_data.keys()]\n",
    "#\t\t\t#writer = csv.DictWriter(csvfile,fieldnames=fieldnames)\t\t\t\n",
    "#\t\t\t#writer.writeheader()\n",
    "#\t\t\t\t\t\t\n",
    "#\t\t\twriter = csv.writer(csvfile, delimiter = ',')\n",
    "#\t\t\twriter.writerow((upperPt[0][0],upperPt[0][1],lowerPt[0][0],lowerPt[0][1], frameCenter[0],frameCenter[1],refPt[0][0],refPt[0][1],refPt[1][0],refPt[1][1]))\n",
    "#\t\t\tdicthead = csv.DictWriter(csvfile,color_data.keys())\n",
    "#\t\t\timport pdb; pdb.set_trace()\n",
    "#\t\t\t#dicthead.writerow(color_data.keys())\t\t\t\n",
    "#\t\t\tfor i in color_data.keys():\n",
    "#\t\t\t\tfor j in range(len(color_data[i])):\n",
    "#\t\t\t\t\tdicthead.writerow(color_data[i][j])\n",
    "#\t\t\tcsvfile.close()\n",
    "\t\t\n",
    "\t\t#reset values:\n",
    "\t\t\n",
    "\t\t\t\n",
    "\t\t#time.sleep(5)"
   ]
  },
  {
   "cell_type": "code",
   "execution_count": 20,
   "metadata": {
    "collapsed": false
   },
   "outputs": [],
   "source": [
    "#frame.shape, upperPt[0][1]\n",
    "\n",
    "camera.set(cv2.CAP_PROP_POS_FRAMES, 300)\n",
    "(grabbed, frame) = camera.read()\n",
    "\n",
    "if grabbed:#scale all videos to same size\n",
    "    scale = 1300./frame.shape[1]\n",
    "    frame = cv2.resize(frame,None,fx=scale,fy=scale,interpolation = cv2.INTER_CUBIC)\n",
    "    frame = frame[upperPt[1]:lowerPt[1],upperPt[0]:lowerPt[0]]\n",
    "    scaled = True\n",
    "\n",
    "while count < 6:\n",
    "    cv2.imshow('Click 6 points on drum',frame)\n",
    "    cv2.setMouseCallback('Click 6 points on drum', get_circ)\n",
    "    cv2.waitKey(3000)\n",
    "    cv2.destroyWindow('Click 6 points on drum')\n",
    "    count += 1\n",
    "#print(diameter)\n",
    "#pdb.set_trace()\n",
    "radius = int(np.mean(color_data['diameter'])/2)\n",
    "cv2.circle(frame,frameCenter,radius,(0,0,0),2)\n",
    "color_data['diameter'] = radius*2"
   ]
  },
  {
   "cell_type": "code",
   "execution_count": 23,
   "metadata": {
    "collapsed": false
   },
   "outputs": [],
   "source": [
    "cv2.destroyWindow('Click 6 points on drum')"
   ]
  },
  {
   "cell_type": "code",
   "execution_count": null,
   "metadata": {
    "collapsed": false
   },
   "outputs": [],
   "source": [
    "diameter = np.round(np.mean(diameter))\n",
    "upperPt = global_data['upperPt']\n",
    "lowerPt = global_data['lowerPt']\n",
    "diameter = global_data['diameter']"
   ]
  },
  {
   "cell_type": "code",
   "execution_count": 17,
   "metadata": {
    "collapsed": false
   },
   "outputs": [
    {
     "data": {
      "text/plain": [
       "[400, 16]"
      ]
     },
     "execution_count": 17,
     "metadata": {},
     "output_type": "execute_result"
    }
   ],
   "source": [
    "color_data['upperPt'] = upperPt\n",
    "color_data['lowerPt'] = lowerPt\n",
    "upperPt"
   ]
  },
  {
   "cell_type": "code",
   "execution_count": 9,
   "metadata": {
    "collapsed": false
   },
   "outputs": [
    {
     "data": {
      "text/plain": [
       "[355, 15]"
      ]
     },
     "execution_count": 9,
     "metadata": {},
     "output_type": "execute_result"
    }
   ],
   "source": [
    "global_data = {}\n",
    "global_data['diameter']=diameter\n",
    "global_data['upperPt']= upperPt[0]\n",
    "global_data['lowerPt']= lowerPt[0]\n",
    "global_data['frameCenter'] = frameCenter\n",
    "global_data['upperPt']\n",
    "upperPt"
   ]
  },
  {
   "cell_type": "code",
   "execution_count": null,
   "metadata": {
    "collapsed": false
   },
   "outputs": [],
   "source": [
    "upperPt = (311,33)#(314, 0)\n",
    "lowerPt = (977,641)#1069, 658)\n",
    "frameCenter = (646,360) #(701,322)\n",
    "diameter = 315\n",
    "\n",
    "global_data = {}\n",
    "global_data['diameter']=diameter\n",
    "global_data['upperPt']= upperPt\n",
    "global_data['lowerPt']= lowerPt\n",
    "global_data['frameCenter'] = frameCenter"
   ]
  },
  {
   "cell_type": "code",
   "execution_count": 10,
   "metadata": {
    "collapsed": false
   },
   "outputs": [],
   "source": [
    "global_data = pickle.dump(global_data,open('94_00_161130-global.p',\"wb\"))"
   ]
  },
  {
   "cell_type": "code",
   "execution_count": null,
   "metadata": {
    "collapsed": true
   },
   "outputs": [],
   "source": [
    "global_data = pickle.load(open('94_00_161130-global.p',\"rb\"))"
   ]
  },
  {
   "cell_type": "code",
   "execution_count": null,
   "metadata": {
    "collapsed": false
   },
   "outputs": [],
   "source": [
    "cv2.destroyAllWindows()"
   ]
  },
  {
   "cell_type": "code",
   "execution_count": null,
   "metadata": {
    "collapsed": false
   },
   "outputs": [],
   "source": [
    "camera.set(cv2.CAP_PROP_POS_FRAMES, 100)\n",
    "(grabbed, frame) = camera.read()\n",
    "camera.get(cv2.CAP_PROP_FRAME_COUNT),grabbed"
   ]
  },
  {
   "cell_type": "code",
   "execution_count": null,
   "metadata": {
    "collapsed": false
   },
   "outputs": [],
   "source": [
    "picklename"
   ]
  },
  {
   "cell_type": "code",
   "execution_count": null,
   "metadata": {
    "collapsed": true
   },
   "outputs": [],
   "source": []
  }
 ],
 "metadata": {
  "kernelspec": {
   "display_name": "Python 2",
   "language": "python",
   "name": "python2"
  },
  "language_info": {
   "codemirror_mode": {
    "name": "ipython",
    "version": 2
   },
   "file_extension": ".py",
   "mimetype": "text/x-python",
   "name": "python",
   "nbconvert_exporter": "python",
   "pygments_lexer": "ipython2",
   "version": "2.7.13"
  }
 },
 "nbformat": 4,
 "nbformat_minor": 2
}
